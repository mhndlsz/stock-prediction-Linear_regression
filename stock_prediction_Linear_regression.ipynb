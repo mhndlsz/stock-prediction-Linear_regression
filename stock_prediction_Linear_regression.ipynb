{
  "nbformat": 4,
  "nbformat_minor": 0,
  "metadata": {
    "colab": {
      "name": "stock-prediction-Linear_regression.ipynb",
      "version": "0.3.2",
      "provenance": [],
      "include_colab_link": true
    },
    "kernelspec": {
      "name": "python3",
      "display_name": "Python 3"
    }
  },
  "cells": [
    {
      "cell_type": "markdown",
      "metadata": {
        "id": "view-in-github",
        "colab_type": "text"
      },
      "source": [
        "<a href=\"https://colab.research.google.com/github/mhndlsz/stock-prediction-Linear_regression/blob/master/stock_prediction_Linear_regression.ipynb\" target=\"_parent\"><img src=\"https://colab.research.google.com/assets/colab-badge.svg\" alt=\"Open In Colab\"/></a>"
      ]
    },
    {
      "cell_type": "code",
      "metadata": {
        "id": "EcBakK5aQmqp",
        "colab_type": "code",
        "outputId": "c65fe0bf-c126-4656-8b41-daa47be15a66",
        "colab": {
          "base_uri": "https://localhost:8080/",
          "height": 235
        }
      },
      "source": [
        "import pandas as pd\n",
        "\n",
        "import datetime\n",
        "import pandas_datareader.data as web\n",
        "from pandas import Series, DataFrame\n",
        "from sklearn.linear_model import LinearRegression\n",
        "\n",
        "\n",
        "start = datetime.datetime(2010, 1, 1)\n",
        "end = datetime.datetime(2019, 3, 6)\n",
        "\n",
        "df = web.DataReader(\"TSLA\", 'yahoo', start, end)\n",
        "df.tail()"
      ],
      "execution_count": 1,
      "outputs": [
        {
          "output_type": "execute_result",
          "data": {
            "text/html": [
              "<div>\n",
              "<style scoped>\n",
              "    .dataframe tbody tr th:only-of-type {\n",
              "        vertical-align: middle;\n",
              "    }\n",
              "\n",
              "    .dataframe tbody tr th {\n",
              "        vertical-align: top;\n",
              "    }\n",
              "\n",
              "    .dataframe thead th {\n",
              "        text-align: right;\n",
              "    }\n",
              "</style>\n",
              "<table border=\"1\" class=\"dataframe\">\n",
              "  <thead>\n",
              "    <tr style=\"text-align: right;\">\n",
              "      <th></th>\n",
              "      <th>High</th>\n",
              "      <th>Low</th>\n",
              "      <th>Open</th>\n",
              "      <th>Close</th>\n",
              "      <th>Volume</th>\n",
              "      <th>Adj Close</th>\n",
              "    </tr>\n",
              "    <tr>\n",
              "      <th>Date</th>\n",
              "      <th></th>\n",
              "      <th></th>\n",
              "      <th></th>\n",
              "      <th></th>\n",
              "      <th></th>\n",
              "      <th></th>\n",
              "    </tr>\n",
              "  </thead>\n",
              "  <tbody>\n",
              "    <tr>\n",
              "      <th>2019-02-28</th>\n",
              "      <td>320.000000</td>\n",
              "      <td>310.809998</td>\n",
              "      <td>318.920013</td>\n",
              "      <td>319.880005</td>\n",
              "      <td>10520700</td>\n",
              "      <td>319.880005</td>\n",
              "    </tr>\n",
              "    <tr>\n",
              "      <th>2019-03-01</th>\n",
              "      <td>307.130005</td>\n",
              "      <td>291.899994</td>\n",
              "      <td>306.940002</td>\n",
              "      <td>294.790009</td>\n",
              "      <td>22911400</td>\n",
              "      <td>294.790009</td>\n",
              "    </tr>\n",
              "    <tr>\n",
              "      <th>2019-03-04</th>\n",
              "      <td>299.000000</td>\n",
              "      <td>282.779999</td>\n",
              "      <td>298.119995</td>\n",
              "      <td>285.359985</td>\n",
              "      <td>17096800</td>\n",
              "      <td>285.359985</td>\n",
              "    </tr>\n",
              "    <tr>\n",
              "      <th>2019-03-05</th>\n",
              "      <td>284.000000</td>\n",
              "      <td>270.100006</td>\n",
              "      <td>282.000000</td>\n",
              "      <td>276.540009</td>\n",
              "      <td>18764700</td>\n",
              "      <td>276.540009</td>\n",
              "    </tr>\n",
              "    <tr>\n",
              "      <th>2019-03-06</th>\n",
              "      <td>281.510010</td>\n",
              "      <td>274.390015</td>\n",
              "      <td>276.480011</td>\n",
              "      <td>276.239990</td>\n",
              "      <td>10335500</td>\n",
              "      <td>276.239990</td>\n",
              "    </tr>\n",
              "  </tbody>\n",
              "</table>\n",
              "</div>"
            ],
            "text/plain": [
              "                  High         Low  ...    Volume   Adj Close\n",
              "Date                                ...                      \n",
              "2019-02-28  320.000000  310.809998  ...  10520700  319.880005\n",
              "2019-03-01  307.130005  291.899994  ...  22911400  294.790009\n",
              "2019-03-04  299.000000  282.779999  ...  17096800  285.359985\n",
              "2019-03-05  284.000000  270.100006  ...  18764700  276.540009\n",
              "2019-03-06  281.510010  274.390015  ...  10335500  276.239990\n",
              "\n",
              "[5 rows x 6 columns]"
            ]
          },
          "metadata": {
            "tags": []
          },
          "execution_count": 1
        }
      ]
    },
    {
      "cell_type": "code",
      "metadata": {
        "id": "3xMUIp5v89Xm",
        "colab_type": "code",
        "colab": {}
      },
      "source": [
        "df['HL_PCT'] = (df['High'] - df['Low']) / df['Close'] * 100.0\n",
        "df['PCT_change'] = (df['Close'] - df['Open']) / df['Open'] * 100.0"
      ],
      "execution_count": 0,
      "outputs": []
    },
    {
      "cell_type": "code",
      "metadata": {
        "id": "D9HBtJYR89ap",
        "colab_type": "code",
        "colab": {
          "base_uri": "https://localhost:8080/",
          "height": 235
        },
        "outputId": "e484224d-82d8-4f3d-e363-8424ab5816e0"
      },
      "source": [
        "df.head()"
      ],
      "execution_count": 3,
      "outputs": [
        {
          "output_type": "execute_result",
          "data": {
            "text/html": [
              "<div>\n",
              "<style scoped>\n",
              "    .dataframe tbody tr th:only-of-type {\n",
              "        vertical-align: middle;\n",
              "    }\n",
              "\n",
              "    .dataframe tbody tr th {\n",
              "        vertical-align: top;\n",
              "    }\n",
              "\n",
              "    .dataframe thead th {\n",
              "        text-align: right;\n",
              "    }\n",
              "</style>\n",
              "<table border=\"1\" class=\"dataframe\">\n",
              "  <thead>\n",
              "    <tr style=\"text-align: right;\">\n",
              "      <th></th>\n",
              "      <th>High</th>\n",
              "      <th>Low</th>\n",
              "      <th>Open</th>\n",
              "      <th>Close</th>\n",
              "      <th>Volume</th>\n",
              "      <th>Adj Close</th>\n",
              "      <th>HL_PCT</th>\n",
              "      <th>PCT_change</th>\n",
              "    </tr>\n",
              "    <tr>\n",
              "      <th>Date</th>\n",
              "      <th></th>\n",
              "      <th></th>\n",
              "      <th></th>\n",
              "      <th></th>\n",
              "      <th></th>\n",
              "      <th></th>\n",
              "      <th></th>\n",
              "      <th></th>\n",
              "    </tr>\n",
              "  </thead>\n",
              "  <tbody>\n",
              "    <tr>\n",
              "      <th>2010-06-29</th>\n",
              "      <td>25.00</td>\n",
              "      <td>17.540001</td>\n",
              "      <td>19.000000</td>\n",
              "      <td>23.889999</td>\n",
              "      <td>18766300</td>\n",
              "      <td>23.889999</td>\n",
              "      <td>31.226452</td>\n",
              "      <td>25.736839</td>\n",
              "    </tr>\n",
              "    <tr>\n",
              "      <th>2010-06-30</th>\n",
              "      <td>30.42</td>\n",
              "      <td>23.299999</td>\n",
              "      <td>25.790001</td>\n",
              "      <td>23.830000</td>\n",
              "      <td>17187100</td>\n",
              "      <td>23.830000</td>\n",
              "      <td>29.878308</td>\n",
              "      <td>-7.599848</td>\n",
              "    </tr>\n",
              "    <tr>\n",
              "      <th>2010-07-01</th>\n",
              "      <td>25.92</td>\n",
              "      <td>20.270000</td>\n",
              "      <td>25.000000</td>\n",
              "      <td>21.959999</td>\n",
              "      <td>8218800</td>\n",
              "      <td>21.959999</td>\n",
              "      <td>25.728597</td>\n",
              "      <td>-12.160004</td>\n",
              "    </tr>\n",
              "    <tr>\n",
              "      <th>2010-07-02</th>\n",
              "      <td>23.10</td>\n",
              "      <td>18.709999</td>\n",
              "      <td>23.000000</td>\n",
              "      <td>19.200001</td>\n",
              "      <td>5139800</td>\n",
              "      <td>19.200001</td>\n",
              "      <td>22.864589</td>\n",
              "      <td>-16.521736</td>\n",
              "    </tr>\n",
              "    <tr>\n",
              "      <th>2010-07-06</th>\n",
              "      <td>20.00</td>\n",
              "      <td>15.830000</td>\n",
              "      <td>20.000000</td>\n",
              "      <td>16.110001</td>\n",
              "      <td>6866900</td>\n",
              "      <td>16.110001</td>\n",
              "      <td>25.884543</td>\n",
              "      <td>-19.449997</td>\n",
              "    </tr>\n",
              "  </tbody>\n",
              "</table>\n",
              "</div>"
            ],
            "text/plain": [
              "             High        Low       Open  ...  Adj Close     HL_PCT  PCT_change\n",
              "Date                                     ...                                  \n",
              "2010-06-29  25.00  17.540001  19.000000  ...  23.889999  31.226452   25.736839\n",
              "2010-06-30  30.42  23.299999  25.790001  ...  23.830000  29.878308   -7.599848\n",
              "2010-07-01  25.92  20.270000  25.000000  ...  21.959999  25.728597  -12.160004\n",
              "2010-07-02  23.10  18.709999  23.000000  ...  19.200001  22.864589  -16.521736\n",
              "2010-07-06  20.00  15.830000  20.000000  ...  16.110001  25.884543  -19.449997\n",
              "\n",
              "[5 rows x 8 columns]"
            ]
          },
          "metadata": {
            "tags": []
          },
          "execution_count": 3
        }
      ]
    },
    {
      "cell_type": "code",
      "metadata": {
        "id": "8BqDoAmv89gm",
        "colab_type": "code",
        "colab": {}
      },
      "source": [
        "forecast_col = 'Adj Close'"
      ],
      "execution_count": 0,
      "outputs": []
    },
    {
      "cell_type": "code",
      "metadata": {
        "id": "KBuLz9eN89rr",
        "colab_type": "code",
        "colab": {}
      },
      "source": [
        "df.fillna(method='ffill', inplace=True)"
      ],
      "execution_count": 0,
      "outputs": []
    },
    {
      "cell_type": "code",
      "metadata": {
        "id": "OQkTp9FC89uu",
        "colab_type": "code",
        "colab": {}
      },
      "source": [
        "forecast_out = 30"
      ],
      "execution_count": 0,
      "outputs": []
    },
    {
      "cell_type": "code",
      "metadata": {
        "id": "8TpIr9b189xt",
        "colab_type": "code",
        "colab": {}
      },
      "source": [
        "df['label'] = df[forecast_col].shift(-forecast_out)"
      ],
      "execution_count": 0,
      "outputs": []
    },
    {
      "cell_type": "code",
      "metadata": {
        "id": "RY2CgFl289pF",
        "colab_type": "code",
        "colab": {
          "base_uri": "https://localhost:8080/",
          "height": 235
        },
        "outputId": "06137c08-09ab-4968-8b30-32e5a3b1df39"
      },
      "source": [
        "df.tail()"
      ],
      "execution_count": 8,
      "outputs": [
        {
          "output_type": "execute_result",
          "data": {
            "text/html": [
              "<div>\n",
              "<style scoped>\n",
              "    .dataframe tbody tr th:only-of-type {\n",
              "        vertical-align: middle;\n",
              "    }\n",
              "\n",
              "    .dataframe tbody tr th {\n",
              "        vertical-align: top;\n",
              "    }\n",
              "\n",
              "    .dataframe thead th {\n",
              "        text-align: right;\n",
              "    }\n",
              "</style>\n",
              "<table border=\"1\" class=\"dataframe\">\n",
              "  <thead>\n",
              "    <tr style=\"text-align: right;\">\n",
              "      <th></th>\n",
              "      <th>High</th>\n",
              "      <th>Low</th>\n",
              "      <th>Open</th>\n",
              "      <th>Close</th>\n",
              "      <th>Volume</th>\n",
              "      <th>Adj Close</th>\n",
              "      <th>HL_PCT</th>\n",
              "      <th>PCT_change</th>\n",
              "      <th>label</th>\n",
              "    </tr>\n",
              "    <tr>\n",
              "      <th>Date</th>\n",
              "      <th></th>\n",
              "      <th></th>\n",
              "      <th></th>\n",
              "      <th></th>\n",
              "      <th></th>\n",
              "      <th></th>\n",
              "      <th></th>\n",
              "      <th></th>\n",
              "      <th></th>\n",
              "    </tr>\n",
              "  </thead>\n",
              "  <tbody>\n",
              "    <tr>\n",
              "      <th>2019-02-28</th>\n",
              "      <td>320.000000</td>\n",
              "      <td>310.809998</td>\n",
              "      <td>318.920013</td>\n",
              "      <td>319.880005</td>\n",
              "      <td>10520700</td>\n",
              "      <td>319.880005</td>\n",
              "      <td>2.872953</td>\n",
              "      <td>0.301013</td>\n",
              "      <td>NaN</td>\n",
              "    </tr>\n",
              "    <tr>\n",
              "      <th>2019-03-01</th>\n",
              "      <td>307.130005</td>\n",
              "      <td>291.899994</td>\n",
              "      <td>306.940002</td>\n",
              "      <td>294.790009</td>\n",
              "      <td>22911400</td>\n",
              "      <td>294.790009</td>\n",
              "      <td>5.166393</td>\n",
              "      <td>-3.958426</td>\n",
              "      <td>NaN</td>\n",
              "    </tr>\n",
              "    <tr>\n",
              "      <th>2019-03-04</th>\n",
              "      <td>299.000000</td>\n",
              "      <td>282.779999</td>\n",
              "      <td>298.119995</td>\n",
              "      <td>285.359985</td>\n",
              "      <td>17096800</td>\n",
              "      <td>285.359985</td>\n",
              "      <td>5.684049</td>\n",
              "      <td>-4.280159</td>\n",
              "      <td>NaN</td>\n",
              "    </tr>\n",
              "    <tr>\n",
              "      <th>2019-03-05</th>\n",
              "      <td>284.000000</td>\n",
              "      <td>270.100006</td>\n",
              "      <td>282.000000</td>\n",
              "      <td>276.540009</td>\n",
              "      <td>18764700</td>\n",
              "      <td>276.540009</td>\n",
              "      <td>5.026395</td>\n",
              "      <td>-1.936167</td>\n",
              "      <td>NaN</td>\n",
              "    </tr>\n",
              "    <tr>\n",
              "      <th>2019-03-06</th>\n",
              "      <td>281.510010</td>\n",
              "      <td>274.390015</td>\n",
              "      <td>276.480011</td>\n",
              "      <td>276.239990</td>\n",
              "      <td>10335500</td>\n",
              "      <td>276.239990</td>\n",
              "      <td>2.577467</td>\n",
              "      <td>-0.086813</td>\n",
              "      <td>NaN</td>\n",
              "    </tr>\n",
              "  </tbody>\n",
              "</table>\n",
              "</div>"
            ],
            "text/plain": [
              "                  High         Low        Open  ...    HL_PCT  PCT_change  label\n",
              "Date                                            ...                             \n",
              "2019-02-28  320.000000  310.809998  318.920013  ...  2.872953    0.301013    NaN\n",
              "2019-03-01  307.130005  291.899994  306.940002  ...  5.166393   -3.958426    NaN\n",
              "2019-03-04  299.000000  282.779999  298.119995  ...  5.684049   -4.280159    NaN\n",
              "2019-03-05  284.000000  270.100006  282.000000  ...  5.026395   -1.936167    NaN\n",
              "2019-03-06  281.510010  274.390015  276.480011  ...  2.577467   -0.086813    NaN\n",
              "\n",
              "[5 rows x 9 columns]"
            ]
          },
          "metadata": {
            "tags": []
          },
          "execution_count": 8
        }
      ]
    },
    {
      "cell_type": "code",
      "metadata": {
        "id": "WW6oJli289j0",
        "colab_type": "code",
        "colab": {
          "base_uri": "https://localhost:8080/",
          "height": 235
        },
        "outputId": "196425a5-2e6b-4930-f32c-f32f936378d8"
      },
      "source": [
        "df.head()"
      ],
      "execution_count": 9,
      "outputs": [
        {
          "output_type": "execute_result",
          "data": {
            "text/html": [
              "<div>\n",
              "<style scoped>\n",
              "    .dataframe tbody tr th:only-of-type {\n",
              "        vertical-align: middle;\n",
              "    }\n",
              "\n",
              "    .dataframe tbody tr th {\n",
              "        vertical-align: top;\n",
              "    }\n",
              "\n",
              "    .dataframe thead th {\n",
              "        text-align: right;\n",
              "    }\n",
              "</style>\n",
              "<table border=\"1\" class=\"dataframe\">\n",
              "  <thead>\n",
              "    <tr style=\"text-align: right;\">\n",
              "      <th></th>\n",
              "      <th>High</th>\n",
              "      <th>Low</th>\n",
              "      <th>Open</th>\n",
              "      <th>Close</th>\n",
              "      <th>Volume</th>\n",
              "      <th>Adj Close</th>\n",
              "      <th>HL_PCT</th>\n",
              "      <th>PCT_change</th>\n",
              "      <th>label</th>\n",
              "    </tr>\n",
              "    <tr>\n",
              "      <th>Date</th>\n",
              "      <th></th>\n",
              "      <th></th>\n",
              "      <th></th>\n",
              "      <th></th>\n",
              "      <th></th>\n",
              "      <th></th>\n",
              "      <th></th>\n",
              "      <th></th>\n",
              "      <th></th>\n",
              "    </tr>\n",
              "  </thead>\n",
              "  <tbody>\n",
              "    <tr>\n",
              "      <th>2010-06-29</th>\n",
              "      <td>25.00</td>\n",
              "      <td>17.540001</td>\n",
              "      <td>19.000000</td>\n",
              "      <td>23.889999</td>\n",
              "      <td>18766300</td>\n",
              "      <td>23.889999</td>\n",
              "      <td>31.226452</td>\n",
              "      <td>25.736839</td>\n",
              "      <td>17.900000</td>\n",
              "    </tr>\n",
              "    <tr>\n",
              "      <th>2010-06-30</th>\n",
              "      <td>30.42</td>\n",
              "      <td>23.299999</td>\n",
              "      <td>25.790001</td>\n",
              "      <td>23.830000</td>\n",
              "      <td>17187100</td>\n",
              "      <td>23.830000</td>\n",
              "      <td>29.878308</td>\n",
              "      <td>-7.599848</td>\n",
              "      <td>17.600000</td>\n",
              "    </tr>\n",
              "    <tr>\n",
              "      <th>2010-07-01</th>\n",
              "      <td>25.92</td>\n",
              "      <td>20.270000</td>\n",
              "      <td>25.000000</td>\n",
              "      <td>21.959999</td>\n",
              "      <td>8218800</td>\n",
              "      <td>21.959999</td>\n",
              "      <td>25.728597</td>\n",
              "      <td>-12.160004</td>\n",
              "      <td>18.320000</td>\n",
              "    </tr>\n",
              "    <tr>\n",
              "      <th>2010-07-02</th>\n",
              "      <td>23.10</td>\n",
              "      <td>18.709999</td>\n",
              "      <td>23.000000</td>\n",
              "      <td>19.200001</td>\n",
              "      <td>5139800</td>\n",
              "      <td>19.200001</td>\n",
              "      <td>22.864589</td>\n",
              "      <td>-16.521736</td>\n",
              "      <td>18.780001</td>\n",
              "    </tr>\n",
              "    <tr>\n",
              "      <th>2010-07-06</th>\n",
              "      <td>20.00</td>\n",
              "      <td>15.830000</td>\n",
              "      <td>20.000000</td>\n",
              "      <td>16.110001</td>\n",
              "      <td>6866900</td>\n",
              "      <td>16.110001</td>\n",
              "      <td>25.884543</td>\n",
              "      <td>-19.449997</td>\n",
              "      <td>19.150000</td>\n",
              "    </tr>\n",
              "  </tbody>\n",
              "</table>\n",
              "</div>"
            ],
            "text/plain": [
              "             High        Low       Open  ...     HL_PCT  PCT_change      label\n",
              "Date                                     ...                                  \n",
              "2010-06-29  25.00  17.540001  19.000000  ...  31.226452   25.736839  17.900000\n",
              "2010-06-30  30.42  23.299999  25.790001  ...  29.878308   -7.599848  17.600000\n",
              "2010-07-01  25.92  20.270000  25.000000  ...  25.728597  -12.160004  18.320000\n",
              "2010-07-02  23.10  18.709999  23.000000  ...  22.864589  -16.521736  18.780001\n",
              "2010-07-06  20.00  15.830000  20.000000  ...  25.884543  -19.449997  19.150000\n",
              "\n",
              "[5 rows x 9 columns]"
            ]
          },
          "metadata": {
            "tags": []
          },
          "execution_count": 9
        }
      ]
    },
    {
      "cell_type": "code",
      "metadata": {
        "id": "ZNV6Hcu1Gmna",
        "colab_type": "code",
        "colab": {}
      },
      "source": [
        "df = df.drop(labels='Adj Close', axis=1)\n",
        "import numpy as np\n",
        "\n",
        "X = np.array(df.drop(['label'], 1))"
      ],
      "execution_count": 0,
      "outputs": []
    },
    {
      "cell_type": "code",
      "metadata": {
        "id": "I5U7LoJWGwf2",
        "colab_type": "code",
        "colab": {
          "base_uri": "https://localhost:8080/",
          "height": 251
        },
        "outputId": "ecf0a334-b012-435a-b0dc-e0a05846c400"
      },
      "source": [
        "X"
      ],
      "execution_count": 11,
      "outputs": [
        {
          "output_type": "execute_result",
          "data": {
            "text/plain": [
              "array([[ 2.50000000e+01,  1.75400009e+01,  1.90000000e+01, ...,\n",
              "         1.87663000e+07,  3.12264515e+01,  2.57368389e+01],\n",
              "       [ 3.04200001e+01,  2.32999992e+01,  2.57900009e+01, ...,\n",
              "         1.71871000e+07,  2.98783083e+01, -7.59984848e+00],\n",
              "       [ 2.59200001e+01,  2.02700005e+01,  2.50000000e+01, ...,\n",
              "         8.21880000e+06,  2.57285968e+01, -1.21600037e+01],\n",
              "       ...,\n",
              "       [ 2.99000000e+02,  2.82779999e+02,  2.98119995e+02, ...,\n",
              "         1.70968000e+07,  5.68404894e+00, -4.28015899e+00],\n",
              "       [ 2.84000000e+02,  2.70100006e+02,  2.82000000e+02, ...,\n",
              "         1.87647000e+07,  5.02639527e+00, -1.93616718e+00],\n",
              "       [ 2.81510010e+02,  2.74390015e+02,  2.76480011e+02, ...,\n",
              "         1.03355000e+07,  2.57746719e+00, -8.68130579e-02]])"
            ]
          },
          "metadata": {
            "tags": []
          },
          "execution_count": 11
        }
      ]
    },
    {
      "cell_type": "code",
      "metadata": {
        "id": "NLzyurKdGwiM",
        "colab_type": "code",
        "colab": {
          "base_uri": "https://localhost:8080/",
          "height": 251
        },
        "outputId": "06f6ff6d-243a-4c88-f9d6-3fcbcd018b88"
      },
      "source": [
        "from sklearn import preprocessing\n",
        "\n",
        "X = preprocessing.scale(X)\n",
        "X"
      ],
      "execution_count": 12,
      "outputs": [
        {
          "output_type": "execute_result",
          "data": {
            "text/plain": [
              "array([[-1.30667175, -1.35971343, -1.35240475, ...,  3.01495263,\n",
              "        11.25182058,  9.23351503],\n",
              "       [-1.26049121, -1.30903069, -1.29365609, ...,  2.66744138,\n",
              "        10.69560255, -2.72618777],\n",
              "       [-1.29883299, -1.33569192, -1.30049136, ...,  0.69391992,\n",
              "         8.98351129, -4.36216618],\n",
              "       ...,\n",
              "       [ 1.0279164 ,  0.97415691,  1.06260644, ...,  2.64757039,\n",
              "         0.7135158 , -1.53523262],\n",
              "       [ 0.90011048,  0.86258453,  0.92313249, ...,  3.01460054,\n",
              "         0.44218053, -0.69431387],\n",
              "       [ 0.87889478,  0.90033269,  0.87537226, ...,  1.15971086,\n",
              "        -0.56820016, -0.03084886]])"
            ]
          },
          "metadata": {
            "tags": []
          },
          "execution_count": 12
        }
      ]
    },
    {
      "cell_type": "code",
      "metadata": {
        "id": "KJOI18saGwlW",
        "colab_type": "code",
        "colab": {}
      },
      "source": [
        "X_lately = X[-forecast_out:]"
      ],
      "execution_count": 0,
      "outputs": []
    },
    {
      "cell_type": "code",
      "metadata": {
        "id": "5_podCNaGwrs",
        "colab_type": "code",
        "colab": {}
      },
      "source": [
        "X = X[:-forecast_out]"
      ],
      "execution_count": 0,
      "outputs": []
    },
    {
      "cell_type": "code",
      "metadata": {
        "id": "Jwam1j2sGwwe",
        "colab_type": "code",
        "colab": {
          "base_uri": "https://localhost:8080/",
          "height": 251
        },
        "outputId": "5ace0771-3524-4891-d6d2-d91150bc1ef3"
      },
      "source": [
        "X"
      ],
      "execution_count": 15,
      "outputs": [
        {
          "output_type": "execute_result",
          "data": {
            "text/plain": [
              "array([[-1.30667175, -1.35971343, -1.35240475, ...,  3.01495263,\n",
              "        11.25182058,  9.23351503],\n",
              "       [-1.26049121, -1.30903069, -1.29365609, ...,  2.66744138,\n",
              "        10.69560255, -2.72618777],\n",
              "       [-1.29883299, -1.33569192, -1.30049136, ...,  0.69391992,\n",
              "         8.98351129, -4.36216618],\n",
              "       ...,\n",
              "       [ 1.47523712,  1.51415696,  1.47869229, ..., -0.30559302,\n",
              "        -0.7584826 ,  0.11428227],\n",
              "       [ 1.26759514,  1.12330158,  1.27787404, ...,  4.1998401 ,\n",
              "         2.10844821, -2.3032878 ],\n",
              "       [ 1.10459995,  1.08608133,  1.12057651, ...,  1.5406705 ,\n",
              "         0.09368401, -0.69409836]])"
            ]
          },
          "metadata": {
            "tags": []
          },
          "execution_count": 15
        }
      ]
    },
    {
      "cell_type": "code",
      "metadata": {
        "id": "mG6jDZSmGw4v",
        "colab_type": "code",
        "colab": {
          "base_uri": "https://localhost:8080/",
          "height": 235
        },
        "outputId": "ca294fb8-8508-4ab0-980f-c50ad919b399"
      },
      "source": [
        "df.head()"
      ],
      "execution_count": 16,
      "outputs": [
        {
          "output_type": "execute_result",
          "data": {
            "text/html": [
              "<div>\n",
              "<style scoped>\n",
              "    .dataframe tbody tr th:only-of-type {\n",
              "        vertical-align: middle;\n",
              "    }\n",
              "\n",
              "    .dataframe tbody tr th {\n",
              "        vertical-align: top;\n",
              "    }\n",
              "\n",
              "    .dataframe thead th {\n",
              "        text-align: right;\n",
              "    }\n",
              "</style>\n",
              "<table border=\"1\" class=\"dataframe\">\n",
              "  <thead>\n",
              "    <tr style=\"text-align: right;\">\n",
              "      <th></th>\n",
              "      <th>High</th>\n",
              "      <th>Low</th>\n",
              "      <th>Open</th>\n",
              "      <th>Close</th>\n",
              "      <th>Volume</th>\n",
              "      <th>HL_PCT</th>\n",
              "      <th>PCT_change</th>\n",
              "      <th>label</th>\n",
              "    </tr>\n",
              "    <tr>\n",
              "      <th>Date</th>\n",
              "      <th></th>\n",
              "      <th></th>\n",
              "      <th></th>\n",
              "      <th></th>\n",
              "      <th></th>\n",
              "      <th></th>\n",
              "      <th></th>\n",
              "      <th></th>\n",
              "    </tr>\n",
              "  </thead>\n",
              "  <tbody>\n",
              "    <tr>\n",
              "      <th>2010-06-29</th>\n",
              "      <td>25.00</td>\n",
              "      <td>17.540001</td>\n",
              "      <td>19.000000</td>\n",
              "      <td>23.889999</td>\n",
              "      <td>18766300</td>\n",
              "      <td>31.226452</td>\n",
              "      <td>25.736839</td>\n",
              "      <td>17.900000</td>\n",
              "    </tr>\n",
              "    <tr>\n",
              "      <th>2010-06-30</th>\n",
              "      <td>30.42</td>\n",
              "      <td>23.299999</td>\n",
              "      <td>25.790001</td>\n",
              "      <td>23.830000</td>\n",
              "      <td>17187100</td>\n",
              "      <td>29.878308</td>\n",
              "      <td>-7.599848</td>\n",
              "      <td>17.600000</td>\n",
              "    </tr>\n",
              "    <tr>\n",
              "      <th>2010-07-01</th>\n",
              "      <td>25.92</td>\n",
              "      <td>20.270000</td>\n",
              "      <td>25.000000</td>\n",
              "      <td>21.959999</td>\n",
              "      <td>8218800</td>\n",
              "      <td>25.728597</td>\n",
              "      <td>-12.160004</td>\n",
              "      <td>18.320000</td>\n",
              "    </tr>\n",
              "    <tr>\n",
              "      <th>2010-07-02</th>\n",
              "      <td>23.10</td>\n",
              "      <td>18.709999</td>\n",
              "      <td>23.000000</td>\n",
              "      <td>19.200001</td>\n",
              "      <td>5139800</td>\n",
              "      <td>22.864589</td>\n",
              "      <td>-16.521736</td>\n",
              "      <td>18.780001</td>\n",
              "    </tr>\n",
              "    <tr>\n",
              "      <th>2010-07-06</th>\n",
              "      <td>20.00</td>\n",
              "      <td>15.830000</td>\n",
              "      <td>20.000000</td>\n",
              "      <td>16.110001</td>\n",
              "      <td>6866900</td>\n",
              "      <td>25.884543</td>\n",
              "      <td>-19.449997</td>\n",
              "      <td>19.150000</td>\n",
              "    </tr>\n",
              "  </tbody>\n",
              "</table>\n",
              "</div>"
            ],
            "text/plain": [
              "             High        Low       Open  ...     HL_PCT  PCT_change      label\n",
              "Date                                     ...                                  \n",
              "2010-06-29  25.00  17.540001  19.000000  ...  31.226452   25.736839  17.900000\n",
              "2010-06-30  30.42  23.299999  25.790001  ...  29.878308   -7.599848  17.600000\n",
              "2010-07-01  25.92  20.270000  25.000000  ...  25.728597  -12.160004  18.320000\n",
              "2010-07-02  23.10  18.709999  23.000000  ...  22.864589  -16.521736  18.780001\n",
              "2010-07-06  20.00  15.830000  20.000000  ...  25.884543  -19.449997  19.150000\n",
              "\n",
              "[5 rows x 8 columns]"
            ]
          },
          "metadata": {
            "tags": []
          },
          "execution_count": 16
        }
      ]
    },
    {
      "cell_type": "code",
      "metadata": {
        "id": "zjZ0zv7oGw1m",
        "colab_type": "code",
        "colab": {
          "base_uri": "https://localhost:8080/",
          "height": 235
        },
        "outputId": "55e5f0ea-f671-40d0-96d9-96604d30d1f1"
      },
      "source": [
        "df.tail()"
      ],
      "execution_count": 17,
      "outputs": [
        {
          "output_type": "execute_result",
          "data": {
            "text/html": [
              "<div>\n",
              "<style scoped>\n",
              "    .dataframe tbody tr th:only-of-type {\n",
              "        vertical-align: middle;\n",
              "    }\n",
              "\n",
              "    .dataframe tbody tr th {\n",
              "        vertical-align: top;\n",
              "    }\n",
              "\n",
              "    .dataframe thead th {\n",
              "        text-align: right;\n",
              "    }\n",
              "</style>\n",
              "<table border=\"1\" class=\"dataframe\">\n",
              "  <thead>\n",
              "    <tr style=\"text-align: right;\">\n",
              "      <th></th>\n",
              "      <th>High</th>\n",
              "      <th>Low</th>\n",
              "      <th>Open</th>\n",
              "      <th>Close</th>\n",
              "      <th>Volume</th>\n",
              "      <th>HL_PCT</th>\n",
              "      <th>PCT_change</th>\n",
              "      <th>label</th>\n",
              "    </tr>\n",
              "    <tr>\n",
              "      <th>Date</th>\n",
              "      <th></th>\n",
              "      <th></th>\n",
              "      <th></th>\n",
              "      <th></th>\n",
              "      <th></th>\n",
              "      <th></th>\n",
              "      <th></th>\n",
              "      <th></th>\n",
              "    </tr>\n",
              "  </thead>\n",
              "  <tbody>\n",
              "    <tr>\n",
              "      <th>2019-02-28</th>\n",
              "      <td>320.000000</td>\n",
              "      <td>310.809998</td>\n",
              "      <td>318.920013</td>\n",
              "      <td>319.880005</td>\n",
              "      <td>10520700</td>\n",
              "      <td>2.872953</td>\n",
              "      <td>0.301013</td>\n",
              "      <td>NaN</td>\n",
              "    </tr>\n",
              "    <tr>\n",
              "      <th>2019-03-01</th>\n",
              "      <td>307.130005</td>\n",
              "      <td>291.899994</td>\n",
              "      <td>306.940002</td>\n",
              "      <td>294.790009</td>\n",
              "      <td>22911400</td>\n",
              "      <td>5.166393</td>\n",
              "      <td>-3.958426</td>\n",
              "      <td>NaN</td>\n",
              "    </tr>\n",
              "    <tr>\n",
              "      <th>2019-03-04</th>\n",
              "      <td>299.000000</td>\n",
              "      <td>282.779999</td>\n",
              "      <td>298.119995</td>\n",
              "      <td>285.359985</td>\n",
              "      <td>17096800</td>\n",
              "      <td>5.684049</td>\n",
              "      <td>-4.280159</td>\n",
              "      <td>NaN</td>\n",
              "    </tr>\n",
              "    <tr>\n",
              "      <th>2019-03-05</th>\n",
              "      <td>284.000000</td>\n",
              "      <td>270.100006</td>\n",
              "      <td>282.000000</td>\n",
              "      <td>276.540009</td>\n",
              "      <td>18764700</td>\n",
              "      <td>5.026395</td>\n",
              "      <td>-1.936167</td>\n",
              "      <td>NaN</td>\n",
              "    </tr>\n",
              "    <tr>\n",
              "      <th>2019-03-06</th>\n",
              "      <td>281.510010</td>\n",
              "      <td>274.390015</td>\n",
              "      <td>276.480011</td>\n",
              "      <td>276.239990</td>\n",
              "      <td>10335500</td>\n",
              "      <td>2.577467</td>\n",
              "      <td>-0.086813</td>\n",
              "      <td>NaN</td>\n",
              "    </tr>\n",
              "  </tbody>\n",
              "</table>\n",
              "</div>"
            ],
            "text/plain": [
              "                  High         Low        Open  ...    HL_PCT  PCT_change  label\n",
              "Date                                            ...                             \n",
              "2019-02-28  320.000000  310.809998  318.920013  ...  2.872953    0.301013    NaN\n",
              "2019-03-01  307.130005  291.899994  306.940002  ...  5.166393   -3.958426    NaN\n",
              "2019-03-04  299.000000  282.779999  298.119995  ...  5.684049   -4.280159    NaN\n",
              "2019-03-05  284.000000  270.100006  282.000000  ...  5.026395   -1.936167    NaN\n",
              "2019-03-06  281.510010  274.390015  276.480011  ...  2.577467   -0.086813    NaN\n",
              "\n",
              "[5 rows x 8 columns]"
            ]
          },
          "metadata": {
            "tags": []
          },
          "execution_count": 17
        }
      ]
    },
    {
      "cell_type": "code",
      "metadata": {
        "id": "NCUX35zeGwz6",
        "colab_type": "code",
        "colab": {}
      },
      "source": [
        "df.dropna(inplace=True)"
      ],
      "execution_count": 0,
      "outputs": []
    },
    {
      "cell_type": "code",
      "metadata": {
        "id": "Mu79-eAfGwuu",
        "colab_type": "code",
        "colab": {
          "base_uri": "https://localhost:8080/",
          "height": 235
        },
        "outputId": "3b38516c-f033-4c83-df60-67f1ffa202a5"
      },
      "source": [
        "df.tail()"
      ],
      "execution_count": 19,
      "outputs": [
        {
          "output_type": "execute_result",
          "data": {
            "text/html": [
              "<div>\n",
              "<style scoped>\n",
              "    .dataframe tbody tr th:only-of-type {\n",
              "        vertical-align: middle;\n",
              "    }\n",
              "\n",
              "    .dataframe tbody tr th {\n",
              "        vertical-align: top;\n",
              "    }\n",
              "\n",
              "    .dataframe thead th {\n",
              "        text-align: right;\n",
              "    }\n",
              "</style>\n",
              "<table border=\"1\" class=\"dataframe\">\n",
              "  <thead>\n",
              "    <tr style=\"text-align: right;\">\n",
              "      <th></th>\n",
              "      <th>High</th>\n",
              "      <th>Low</th>\n",
              "      <th>Open</th>\n",
              "      <th>Close</th>\n",
              "      <th>Volume</th>\n",
              "      <th>HL_PCT</th>\n",
              "      <th>PCT_change</th>\n",
              "      <th>label</th>\n",
              "    </tr>\n",
              "    <tr>\n",
              "      <th>Date</th>\n",
              "      <th></th>\n",
              "      <th></th>\n",
              "      <th></th>\n",
              "      <th></th>\n",
              "      <th></th>\n",
              "      <th></th>\n",
              "      <th></th>\n",
              "      <th></th>\n",
              "    </tr>\n",
              "  </thead>\n",
              "  <tbody>\n",
              "    <tr>\n",
              "      <th>2019-01-15</th>\n",
              "      <td>348.799988</td>\n",
              "      <td>334.500000</td>\n",
              "      <td>335.000000</td>\n",
              "      <td>344.429993</td>\n",
              "      <td>6056600</td>\n",
              "      <td>4.151784</td>\n",
              "      <td>2.814923</td>\n",
              "      <td>319.880005</td>\n",
              "    </tr>\n",
              "    <tr>\n",
              "      <th>2019-01-16</th>\n",
              "      <td>352.000000</td>\n",
              "      <td>343.500000</td>\n",
              "      <td>344.779999</td>\n",
              "      <td>346.049988</td>\n",
              "      <td>4691700</td>\n",
              "      <td>2.456293</td>\n",
              "      <td>0.368348</td>\n",
              "      <td>294.790009</td>\n",
              "    </tr>\n",
              "    <tr>\n",
              "      <th>2019-01-17</th>\n",
              "      <td>351.500000</td>\n",
              "      <td>344.149994</td>\n",
              "      <td>346.209991</td>\n",
              "      <td>347.309998</td>\n",
              "      <td>3676700</td>\n",
              "      <td>2.116267</td>\n",
              "      <td>0.317728</td>\n",
              "      <td>285.359985</td>\n",
              "    </tr>\n",
              "    <tr>\n",
              "      <th>2019-01-18</th>\n",
              "      <td>327.130005</td>\n",
              "      <td>299.730011</td>\n",
              "      <td>323.000000</td>\n",
              "      <td>302.260010</td>\n",
              "      <td>24150800</td>\n",
              "      <td>9.065041</td>\n",
              "      <td>-6.421050</td>\n",
              "      <td>276.540009</td>\n",
              "    </tr>\n",
              "    <tr>\n",
              "      <th>2019-01-22</th>\n",
              "      <td>308.000000</td>\n",
              "      <td>295.500000</td>\n",
              "      <td>304.820007</td>\n",
              "      <td>298.920013</td>\n",
              "      <td>12066700</td>\n",
              "      <td>4.181721</td>\n",
              "      <td>-1.935566</td>\n",
              "      <td>276.239990</td>\n",
              "    </tr>\n",
              "  </tbody>\n",
              "</table>\n",
              "</div>"
            ],
            "text/plain": [
              "                  High         Low  ...  PCT_change       label\n",
              "Date                                ...                        \n",
              "2019-01-15  348.799988  334.500000  ...    2.814923  319.880005\n",
              "2019-01-16  352.000000  343.500000  ...    0.368348  294.790009\n",
              "2019-01-17  351.500000  344.149994  ...    0.317728  285.359985\n",
              "2019-01-18  327.130005  299.730011  ...   -6.421050  276.540009\n",
              "2019-01-22  308.000000  295.500000  ...   -1.935566  276.239990\n",
              "\n",
              "[5 rows x 8 columns]"
            ]
          },
          "metadata": {
            "tags": []
          },
          "execution_count": 19
        }
      ]
    },
    {
      "cell_type": "code",
      "metadata": {
        "id": "RcehtZ6SJpze",
        "colab_type": "code",
        "colab": {}
      },
      "source": [
        "y = np.array(df['label'])"
      ],
      "execution_count": 0,
      "outputs": []
    },
    {
      "cell_type": "code",
      "metadata": {
        "id": "lELomFHAJp9m",
        "colab_type": "code",
        "colab": {
          "base_uri": "https://localhost:8080/",
          "height": 53
        },
        "outputId": "2882dc31-2a25-47e7-d999-869efae98ac2"
      },
      "source": [
        "y"
      ],
      "execution_count": 21,
      "outputs": [
        {
          "output_type": "execute_result",
          "data": {
            "text/plain": [
              "array([ 17.89999962,  17.60000038,  18.31999969, ..., 285.35998535,\n",
              "       276.54000854, 276.23999023])"
            ]
          },
          "metadata": {
            "tags": []
          },
          "execution_count": 21
        }
      ]
    },
    {
      "cell_type": "code",
      "metadata": {
        "id": "jV3bFrvcJqAb",
        "colab_type": "code",
        "colab": {}
      },
      "source": [
        "from sklearn import model_selection\n",
        "from sklearn.model_selection import train_test_split\n",
        "\n",
        "X_train, X_test, y_train, y_test = model_selection.train_test_split(X, y, test_size=0.2)"
      ],
      "execution_count": 0,
      "outputs": []
    },
    {
      "cell_type": "code",
      "metadata": {
        "id": "81GewX0cJqDE",
        "colab_type": "code",
        "colab": {}
      },
      "source": [
        "lr = LinearRegression(n_jobs=-1)\n",
        "lr.fit(X_train, y_train)\n",
        "confidencelr = lr.score(X_test, y_test)"
      ],
      "execution_count": 0,
      "outputs": []
    },
    {
      "cell_type": "code",
      "metadata": {
        "id": "xHOs-q7-JqJ9",
        "colab_type": "code",
        "colab": {
          "base_uri": "https://localhost:8080/",
          "height": 35
        },
        "outputId": "a1738e5f-6ad9-4bbf-b3ab-4161ff2bf751"
      },
      "source": [
        "confidencelr"
      ],
      "execution_count": 29,
      "outputs": [
        {
          "output_type": "execute_result",
          "data": {
            "text/plain": [
              "0.9460325469879785"
            ]
          },
          "metadata": {
            "tags": []
          },
          "execution_count": 29
        }
      ]
    },
    {
      "cell_type": "code",
      "metadata": {
        "id": "n2Gr6Nu_JqQ9",
        "colab_type": "code",
        "colab": {
          "base_uri": "https://localhost:8080/",
          "height": 161
        },
        "outputId": "e3c30ab9-f32b-4426-f206-d1c0ad2c5214"
      },
      "source": [
        "forecast_set_lr = lr.predict(X_lately)\n",
        "forecast_set_lr"
      ],
      "execution_count": 30,
      "outputs": [
        {
          "output_type": "execute_result",
          "data": {
            "text/plain": [
              "array([296.23460097, 289.58922845, 295.67806432, 293.3706677 ,\n",
              "       292.38384049, 311.7134325 , 311.4672364 , 308.74056784,\n",
              "       310.19641647, 316.2787056 , 312.51869264, 305.69077362,\n",
              "       302.19486887, 311.19625954, 308.49030086, 304.54353326,\n",
              "       299.95058269, 301.244712  , 300.52007984, 302.03984616,\n",
              "       295.35130015, 292.59442834, 297.63279973, 297.43959135,\n",
              "       315.46380303, 322.34754844, 321.00171819, 302.69987174,\n",
              "       295.75675574, 282.60475154])"
            ]
          },
          "metadata": {
            "tags": []
          },
          "execution_count": 30
        }
      ]
    },
    {
      "cell_type": "code",
      "metadata": {
        "id": "irDDz0aBJqVl",
        "colab_type": "code",
        "colab": {}
      },
      "source": [
        "df['Forecast'] = np.nan"
      ],
      "execution_count": 0,
      "outputs": []
    },
    {
      "cell_type": "code",
      "metadata": {
        "id": "YbZBDxMWJqaN",
        "colab_type": "code",
        "colab": {
          "base_uri": "https://localhost:8080/",
          "height": 235
        },
        "outputId": "9026ebe9-488a-4d6b-81fa-61d0ca5ae48f"
      },
      "source": [
        "df.tail()"
      ],
      "execution_count": 32,
      "outputs": [
        {
          "output_type": "execute_result",
          "data": {
            "text/html": [
              "<div>\n",
              "<style scoped>\n",
              "    .dataframe tbody tr th:only-of-type {\n",
              "        vertical-align: middle;\n",
              "    }\n",
              "\n",
              "    .dataframe tbody tr th {\n",
              "        vertical-align: top;\n",
              "    }\n",
              "\n",
              "    .dataframe thead th {\n",
              "        text-align: right;\n",
              "    }\n",
              "</style>\n",
              "<table border=\"1\" class=\"dataframe\">\n",
              "  <thead>\n",
              "    <tr style=\"text-align: right;\">\n",
              "      <th></th>\n",
              "      <th>High</th>\n",
              "      <th>Low</th>\n",
              "      <th>Open</th>\n",
              "      <th>Close</th>\n",
              "      <th>Volume</th>\n",
              "      <th>HL_PCT</th>\n",
              "      <th>PCT_change</th>\n",
              "      <th>label</th>\n",
              "      <th>Forecast</th>\n",
              "    </tr>\n",
              "    <tr>\n",
              "      <th>Date</th>\n",
              "      <th></th>\n",
              "      <th></th>\n",
              "      <th></th>\n",
              "      <th></th>\n",
              "      <th></th>\n",
              "      <th></th>\n",
              "      <th></th>\n",
              "      <th></th>\n",
              "      <th></th>\n",
              "    </tr>\n",
              "  </thead>\n",
              "  <tbody>\n",
              "    <tr>\n",
              "      <th>2019-01-15</th>\n",
              "      <td>348.799988</td>\n",
              "      <td>334.500000</td>\n",
              "      <td>335.000000</td>\n",
              "      <td>344.429993</td>\n",
              "      <td>6056600</td>\n",
              "      <td>4.151784</td>\n",
              "      <td>2.814923</td>\n",
              "      <td>319.880005</td>\n",
              "      <td>NaN</td>\n",
              "    </tr>\n",
              "    <tr>\n",
              "      <th>2019-01-16</th>\n",
              "      <td>352.000000</td>\n",
              "      <td>343.500000</td>\n",
              "      <td>344.779999</td>\n",
              "      <td>346.049988</td>\n",
              "      <td>4691700</td>\n",
              "      <td>2.456293</td>\n",
              "      <td>0.368348</td>\n",
              "      <td>294.790009</td>\n",
              "      <td>NaN</td>\n",
              "    </tr>\n",
              "    <tr>\n",
              "      <th>2019-01-17</th>\n",
              "      <td>351.500000</td>\n",
              "      <td>344.149994</td>\n",
              "      <td>346.209991</td>\n",
              "      <td>347.309998</td>\n",
              "      <td>3676700</td>\n",
              "      <td>2.116267</td>\n",
              "      <td>0.317728</td>\n",
              "      <td>285.359985</td>\n",
              "      <td>NaN</td>\n",
              "    </tr>\n",
              "    <tr>\n",
              "      <th>2019-01-18</th>\n",
              "      <td>327.130005</td>\n",
              "      <td>299.730011</td>\n",
              "      <td>323.000000</td>\n",
              "      <td>302.260010</td>\n",
              "      <td>24150800</td>\n",
              "      <td>9.065041</td>\n",
              "      <td>-6.421050</td>\n",
              "      <td>276.540009</td>\n",
              "      <td>NaN</td>\n",
              "    </tr>\n",
              "    <tr>\n",
              "      <th>2019-01-22</th>\n",
              "      <td>308.000000</td>\n",
              "      <td>295.500000</td>\n",
              "      <td>304.820007</td>\n",
              "      <td>298.920013</td>\n",
              "      <td>12066700</td>\n",
              "      <td>4.181721</td>\n",
              "      <td>-1.935566</td>\n",
              "      <td>276.239990</td>\n",
              "      <td>NaN</td>\n",
              "    </tr>\n",
              "  </tbody>\n",
              "</table>\n",
              "</div>"
            ],
            "text/plain": [
              "                  High         Low  ...       label  Forecast\n",
              "Date                                ...                      \n",
              "2019-01-15  348.799988  334.500000  ...  319.880005       NaN\n",
              "2019-01-16  352.000000  343.500000  ...  294.790009       NaN\n",
              "2019-01-17  351.500000  344.149994  ...  285.359985       NaN\n",
              "2019-01-18  327.130005  299.730011  ...  276.540009       NaN\n",
              "2019-01-22  308.000000  295.500000  ...  276.239990       NaN\n",
              "\n",
              "[5 rows x 9 columns]"
            ]
          },
          "metadata": {
            "tags": []
          },
          "execution_count": 32
        }
      ]
    },
    {
      "cell_type": "code",
      "metadata": {
        "id": "c5igf-veJqe4",
        "colab_type": "code",
        "colab": {
          "base_uri": "https://localhost:8080/",
          "height": 235
        },
        "outputId": "ff95db76-610e-4b3f-f3cb-1c54e9a9b69c"
      },
      "source": [
        "df.head()"
      ],
      "execution_count": 33,
      "outputs": [
        {
          "output_type": "execute_result",
          "data": {
            "text/html": [
              "<div>\n",
              "<style scoped>\n",
              "    .dataframe tbody tr th:only-of-type {\n",
              "        vertical-align: middle;\n",
              "    }\n",
              "\n",
              "    .dataframe tbody tr th {\n",
              "        vertical-align: top;\n",
              "    }\n",
              "\n",
              "    .dataframe thead th {\n",
              "        text-align: right;\n",
              "    }\n",
              "</style>\n",
              "<table border=\"1\" class=\"dataframe\">\n",
              "  <thead>\n",
              "    <tr style=\"text-align: right;\">\n",
              "      <th></th>\n",
              "      <th>High</th>\n",
              "      <th>Low</th>\n",
              "      <th>Open</th>\n",
              "      <th>Close</th>\n",
              "      <th>Volume</th>\n",
              "      <th>HL_PCT</th>\n",
              "      <th>PCT_change</th>\n",
              "      <th>label</th>\n",
              "      <th>Forecast</th>\n",
              "    </tr>\n",
              "    <tr>\n",
              "      <th>Date</th>\n",
              "      <th></th>\n",
              "      <th></th>\n",
              "      <th></th>\n",
              "      <th></th>\n",
              "      <th></th>\n",
              "      <th></th>\n",
              "      <th></th>\n",
              "      <th></th>\n",
              "      <th></th>\n",
              "    </tr>\n",
              "  </thead>\n",
              "  <tbody>\n",
              "    <tr>\n",
              "      <th>2010-06-29</th>\n",
              "      <td>25.00</td>\n",
              "      <td>17.540001</td>\n",
              "      <td>19.000000</td>\n",
              "      <td>23.889999</td>\n",
              "      <td>18766300</td>\n",
              "      <td>31.226452</td>\n",
              "      <td>25.736839</td>\n",
              "      <td>17.900000</td>\n",
              "      <td>NaN</td>\n",
              "    </tr>\n",
              "    <tr>\n",
              "      <th>2010-06-30</th>\n",
              "      <td>30.42</td>\n",
              "      <td>23.299999</td>\n",
              "      <td>25.790001</td>\n",
              "      <td>23.830000</td>\n",
              "      <td>17187100</td>\n",
              "      <td>29.878308</td>\n",
              "      <td>-7.599848</td>\n",
              "      <td>17.600000</td>\n",
              "      <td>NaN</td>\n",
              "    </tr>\n",
              "    <tr>\n",
              "      <th>2010-07-01</th>\n",
              "      <td>25.92</td>\n",
              "      <td>20.270000</td>\n",
              "      <td>25.000000</td>\n",
              "      <td>21.959999</td>\n",
              "      <td>8218800</td>\n",
              "      <td>25.728597</td>\n",
              "      <td>-12.160004</td>\n",
              "      <td>18.320000</td>\n",
              "      <td>NaN</td>\n",
              "    </tr>\n",
              "    <tr>\n",
              "      <th>2010-07-02</th>\n",
              "      <td>23.10</td>\n",
              "      <td>18.709999</td>\n",
              "      <td>23.000000</td>\n",
              "      <td>19.200001</td>\n",
              "      <td>5139800</td>\n",
              "      <td>22.864589</td>\n",
              "      <td>-16.521736</td>\n",
              "      <td>18.780001</td>\n",
              "      <td>NaN</td>\n",
              "    </tr>\n",
              "    <tr>\n",
              "      <th>2010-07-06</th>\n",
              "      <td>20.00</td>\n",
              "      <td>15.830000</td>\n",
              "      <td>20.000000</td>\n",
              "      <td>16.110001</td>\n",
              "      <td>6866900</td>\n",
              "      <td>25.884543</td>\n",
              "      <td>-19.449997</td>\n",
              "      <td>19.150000</td>\n",
              "      <td>NaN</td>\n",
              "    </tr>\n",
              "  </tbody>\n",
              "</table>\n",
              "</div>"
            ],
            "text/plain": [
              "             High        Low       Open  ...  PCT_change      label  Forecast\n",
              "Date                                     ...                                 \n",
              "2010-06-29  25.00  17.540001  19.000000  ...   25.736839  17.900000       NaN\n",
              "2010-06-30  30.42  23.299999  25.790001  ...   -7.599848  17.600000       NaN\n",
              "2010-07-01  25.92  20.270000  25.000000  ...  -12.160004  18.320000       NaN\n",
              "2010-07-02  23.10  18.709999  23.000000  ...  -16.521736  18.780001       NaN\n",
              "2010-07-06  20.00  15.830000  20.000000  ...  -19.449997  19.150000       NaN\n",
              "\n",
              "[5 rows x 9 columns]"
            ]
          },
          "metadata": {
            "tags": []
          },
          "execution_count": 33
        }
      ]
    },
    {
      "cell_type": "code",
      "metadata": {
        "id": "x_q9Q7A2Jqoz",
        "colab_type": "code",
        "colab": {
          "base_uri": "https://localhost:8080/",
          "height": 35
        },
        "outputId": "249ac653-88a1-483a-e8e6-09f223f71be9"
      },
      "source": [
        "last_date = df.iloc[-1].name\n",
        "last_date"
      ],
      "execution_count": 34,
      "outputs": [
        {
          "output_type": "execute_result",
          "data": {
            "text/plain": [
              "Timestamp('2019-01-22 00:00:00')"
            ]
          },
          "metadata": {
            "tags": []
          },
          "execution_count": 34
        }
      ]
    },
    {
      "cell_type": "code",
      "metadata": {
        "id": "_Ml96RuHJqmf",
        "colab_type": "code",
        "colab": {
          "base_uri": "https://localhost:8080/",
          "height": 35
        },
        "outputId": "a042484c-a448-4adb-bd46-f4cd194de9c3"
      },
      "source": [
        "last_unix = last_date.timestamp()\n",
        "last_unix"
      ],
      "execution_count": 35,
      "outputs": [
        {
          "output_type": "execute_result",
          "data": {
            "text/plain": [
              "1548115200.0"
            ]
          },
          "metadata": {
            "tags": []
          },
          "execution_count": 35
        }
      ]
    },
    {
      "cell_type": "code",
      "metadata": {
        "id": "wpF8wcGpJqkI",
        "colab_type": "code",
        "colab": {}
      },
      "source": [
        "one_day = 86400"
      ],
      "execution_count": 0,
      "outputs": []
    },
    {
      "cell_type": "code",
      "metadata": {
        "id": "TkXQ2TAHJqio",
        "colab_type": "code",
        "colab": {
          "base_uri": "https://localhost:8080/",
          "height": 35
        },
        "outputId": "97e44297-d565-44e2-ed1d-12393b9bcf75"
      },
      "source": [
        "next_unix = last_unix + one_day\n",
        "next_unix"
      ],
      "execution_count": 37,
      "outputs": [
        {
          "output_type": "execute_result",
          "data": {
            "text/plain": [
              "1548201600.0"
            ]
          },
          "metadata": {
            "tags": []
          },
          "execution_count": 37
        }
      ]
    },
    {
      "cell_type": "code",
      "metadata": {
        "id": "ydoeZQiLJqc5",
        "colab_type": "code",
        "colab": {}
      },
      "source": [
        "for i in forecast_set_lr:\n",
        "    next_date = datetime.datetime.fromtimestamp(next_unix)\n",
        "    next_unix += 86400\n",
        "    df.loc[next_date] = [np.nan for _ in range(len(df.columns)-1)]+[i]"
      ],
      "execution_count": 0,
      "outputs": []
    },
    {
      "cell_type": "code",
      "metadata": {
        "id": "sdi70KWbJqYn",
        "colab_type": "code",
        "colab": {
          "base_uri": "https://localhost:8080/",
          "height": 700
        },
        "outputId": "866c3d8b-441f-4cb8-b01d-6d3361a9bc27"
      },
      "source": [
        "df.tail(20)"
      ],
      "execution_count": 39,
      "outputs": [
        {
          "output_type": "execute_result",
          "data": {
            "text/html": [
              "<div>\n",
              "<style scoped>\n",
              "    .dataframe tbody tr th:only-of-type {\n",
              "        vertical-align: middle;\n",
              "    }\n",
              "\n",
              "    .dataframe tbody tr th {\n",
              "        vertical-align: top;\n",
              "    }\n",
              "\n",
              "    .dataframe thead th {\n",
              "        text-align: right;\n",
              "    }\n",
              "</style>\n",
              "<table border=\"1\" class=\"dataframe\">\n",
              "  <thead>\n",
              "    <tr style=\"text-align: right;\">\n",
              "      <th></th>\n",
              "      <th>High</th>\n",
              "      <th>Low</th>\n",
              "      <th>Open</th>\n",
              "      <th>Close</th>\n",
              "      <th>Volume</th>\n",
              "      <th>HL_PCT</th>\n",
              "      <th>PCT_change</th>\n",
              "      <th>label</th>\n",
              "      <th>Forecast</th>\n",
              "    </tr>\n",
              "    <tr>\n",
              "      <th>Date</th>\n",
              "      <th></th>\n",
              "      <th></th>\n",
              "      <th></th>\n",
              "      <th></th>\n",
              "      <th></th>\n",
              "      <th></th>\n",
              "      <th></th>\n",
              "      <th></th>\n",
              "      <th></th>\n",
              "    </tr>\n",
              "  </thead>\n",
              "  <tbody>\n",
              "    <tr>\n",
              "      <th>2019-02-02</th>\n",
              "      <td>NaN</td>\n",
              "      <td>NaN</td>\n",
              "      <td>NaN</td>\n",
              "      <td>NaN</td>\n",
              "      <td>NaN</td>\n",
              "      <td>NaN</td>\n",
              "      <td>NaN</td>\n",
              "      <td>NaN</td>\n",
              "      <td>312.518693</td>\n",
              "    </tr>\n",
              "    <tr>\n",
              "      <th>2019-02-03</th>\n",
              "      <td>NaN</td>\n",
              "      <td>NaN</td>\n",
              "      <td>NaN</td>\n",
              "      <td>NaN</td>\n",
              "      <td>NaN</td>\n",
              "      <td>NaN</td>\n",
              "      <td>NaN</td>\n",
              "      <td>NaN</td>\n",
              "      <td>305.690774</td>\n",
              "    </tr>\n",
              "    <tr>\n",
              "      <th>2019-02-04</th>\n",
              "      <td>NaN</td>\n",
              "      <td>NaN</td>\n",
              "      <td>NaN</td>\n",
              "      <td>NaN</td>\n",
              "      <td>NaN</td>\n",
              "      <td>NaN</td>\n",
              "      <td>NaN</td>\n",
              "      <td>NaN</td>\n",
              "      <td>302.194869</td>\n",
              "    </tr>\n",
              "    <tr>\n",
              "      <th>2019-02-05</th>\n",
              "      <td>NaN</td>\n",
              "      <td>NaN</td>\n",
              "      <td>NaN</td>\n",
              "      <td>NaN</td>\n",
              "      <td>NaN</td>\n",
              "      <td>NaN</td>\n",
              "      <td>NaN</td>\n",
              "      <td>NaN</td>\n",
              "      <td>311.196260</td>\n",
              "    </tr>\n",
              "    <tr>\n",
              "      <th>2019-02-06</th>\n",
              "      <td>NaN</td>\n",
              "      <td>NaN</td>\n",
              "      <td>NaN</td>\n",
              "      <td>NaN</td>\n",
              "      <td>NaN</td>\n",
              "      <td>NaN</td>\n",
              "      <td>NaN</td>\n",
              "      <td>NaN</td>\n",
              "      <td>308.490301</td>\n",
              "    </tr>\n",
              "    <tr>\n",
              "      <th>2019-02-07</th>\n",
              "      <td>NaN</td>\n",
              "      <td>NaN</td>\n",
              "      <td>NaN</td>\n",
              "      <td>NaN</td>\n",
              "      <td>NaN</td>\n",
              "      <td>NaN</td>\n",
              "      <td>NaN</td>\n",
              "      <td>NaN</td>\n",
              "      <td>304.543533</td>\n",
              "    </tr>\n",
              "    <tr>\n",
              "      <th>2019-02-08</th>\n",
              "      <td>NaN</td>\n",
              "      <td>NaN</td>\n",
              "      <td>NaN</td>\n",
              "      <td>NaN</td>\n",
              "      <td>NaN</td>\n",
              "      <td>NaN</td>\n",
              "      <td>NaN</td>\n",
              "      <td>NaN</td>\n",
              "      <td>299.950583</td>\n",
              "    </tr>\n",
              "    <tr>\n",
              "      <th>2019-02-09</th>\n",
              "      <td>NaN</td>\n",
              "      <td>NaN</td>\n",
              "      <td>NaN</td>\n",
              "      <td>NaN</td>\n",
              "      <td>NaN</td>\n",
              "      <td>NaN</td>\n",
              "      <td>NaN</td>\n",
              "      <td>NaN</td>\n",
              "      <td>301.244712</td>\n",
              "    </tr>\n",
              "    <tr>\n",
              "      <th>2019-02-10</th>\n",
              "      <td>NaN</td>\n",
              "      <td>NaN</td>\n",
              "      <td>NaN</td>\n",
              "      <td>NaN</td>\n",
              "      <td>NaN</td>\n",
              "      <td>NaN</td>\n",
              "      <td>NaN</td>\n",
              "      <td>NaN</td>\n",
              "      <td>300.520080</td>\n",
              "    </tr>\n",
              "    <tr>\n",
              "      <th>2019-02-11</th>\n",
              "      <td>NaN</td>\n",
              "      <td>NaN</td>\n",
              "      <td>NaN</td>\n",
              "      <td>NaN</td>\n",
              "      <td>NaN</td>\n",
              "      <td>NaN</td>\n",
              "      <td>NaN</td>\n",
              "      <td>NaN</td>\n",
              "      <td>302.039846</td>\n",
              "    </tr>\n",
              "    <tr>\n",
              "      <th>2019-02-12</th>\n",
              "      <td>NaN</td>\n",
              "      <td>NaN</td>\n",
              "      <td>NaN</td>\n",
              "      <td>NaN</td>\n",
              "      <td>NaN</td>\n",
              "      <td>NaN</td>\n",
              "      <td>NaN</td>\n",
              "      <td>NaN</td>\n",
              "      <td>295.351300</td>\n",
              "    </tr>\n",
              "    <tr>\n",
              "      <th>2019-02-13</th>\n",
              "      <td>NaN</td>\n",
              "      <td>NaN</td>\n",
              "      <td>NaN</td>\n",
              "      <td>NaN</td>\n",
              "      <td>NaN</td>\n",
              "      <td>NaN</td>\n",
              "      <td>NaN</td>\n",
              "      <td>NaN</td>\n",
              "      <td>292.594428</td>\n",
              "    </tr>\n",
              "    <tr>\n",
              "      <th>2019-02-14</th>\n",
              "      <td>NaN</td>\n",
              "      <td>NaN</td>\n",
              "      <td>NaN</td>\n",
              "      <td>NaN</td>\n",
              "      <td>NaN</td>\n",
              "      <td>NaN</td>\n",
              "      <td>NaN</td>\n",
              "      <td>NaN</td>\n",
              "      <td>297.632800</td>\n",
              "    </tr>\n",
              "    <tr>\n",
              "      <th>2019-02-15</th>\n",
              "      <td>NaN</td>\n",
              "      <td>NaN</td>\n",
              "      <td>NaN</td>\n",
              "      <td>NaN</td>\n",
              "      <td>NaN</td>\n",
              "      <td>NaN</td>\n",
              "      <td>NaN</td>\n",
              "      <td>NaN</td>\n",
              "      <td>297.439591</td>\n",
              "    </tr>\n",
              "    <tr>\n",
              "      <th>2019-02-16</th>\n",
              "      <td>NaN</td>\n",
              "      <td>NaN</td>\n",
              "      <td>NaN</td>\n",
              "      <td>NaN</td>\n",
              "      <td>NaN</td>\n",
              "      <td>NaN</td>\n",
              "      <td>NaN</td>\n",
              "      <td>NaN</td>\n",
              "      <td>315.463803</td>\n",
              "    </tr>\n",
              "    <tr>\n",
              "      <th>2019-02-17</th>\n",
              "      <td>NaN</td>\n",
              "      <td>NaN</td>\n",
              "      <td>NaN</td>\n",
              "      <td>NaN</td>\n",
              "      <td>NaN</td>\n",
              "      <td>NaN</td>\n",
              "      <td>NaN</td>\n",
              "      <td>NaN</td>\n",
              "      <td>322.347548</td>\n",
              "    </tr>\n",
              "    <tr>\n",
              "      <th>2019-02-18</th>\n",
              "      <td>NaN</td>\n",
              "      <td>NaN</td>\n",
              "      <td>NaN</td>\n",
              "      <td>NaN</td>\n",
              "      <td>NaN</td>\n",
              "      <td>NaN</td>\n",
              "      <td>NaN</td>\n",
              "      <td>NaN</td>\n",
              "      <td>321.001718</td>\n",
              "    </tr>\n",
              "    <tr>\n",
              "      <th>2019-02-19</th>\n",
              "      <td>NaN</td>\n",
              "      <td>NaN</td>\n",
              "      <td>NaN</td>\n",
              "      <td>NaN</td>\n",
              "      <td>NaN</td>\n",
              "      <td>NaN</td>\n",
              "      <td>NaN</td>\n",
              "      <td>NaN</td>\n",
              "      <td>302.699872</td>\n",
              "    </tr>\n",
              "    <tr>\n",
              "      <th>2019-02-20</th>\n",
              "      <td>NaN</td>\n",
              "      <td>NaN</td>\n",
              "      <td>NaN</td>\n",
              "      <td>NaN</td>\n",
              "      <td>NaN</td>\n",
              "      <td>NaN</td>\n",
              "      <td>NaN</td>\n",
              "      <td>NaN</td>\n",
              "      <td>295.756756</td>\n",
              "    </tr>\n",
              "    <tr>\n",
              "      <th>2019-02-21</th>\n",
              "      <td>NaN</td>\n",
              "      <td>NaN</td>\n",
              "      <td>NaN</td>\n",
              "      <td>NaN</td>\n",
              "      <td>NaN</td>\n",
              "      <td>NaN</td>\n",
              "      <td>NaN</td>\n",
              "      <td>NaN</td>\n",
              "      <td>282.604752</td>\n",
              "    </tr>\n",
              "  </tbody>\n",
              "</table>\n",
              "</div>"
            ],
            "text/plain": [
              "            High  Low  Open  Close  ...  HL_PCT  PCT_change  label    Forecast\n",
              "Date                                ...                                       \n",
              "2019-02-02   NaN  NaN   NaN    NaN  ...     NaN         NaN    NaN  312.518693\n",
              "2019-02-03   NaN  NaN   NaN    NaN  ...     NaN         NaN    NaN  305.690774\n",
              "2019-02-04   NaN  NaN   NaN    NaN  ...     NaN         NaN    NaN  302.194869\n",
              "2019-02-05   NaN  NaN   NaN    NaN  ...     NaN         NaN    NaN  311.196260\n",
              "2019-02-06   NaN  NaN   NaN    NaN  ...     NaN         NaN    NaN  308.490301\n",
              "2019-02-07   NaN  NaN   NaN    NaN  ...     NaN         NaN    NaN  304.543533\n",
              "2019-02-08   NaN  NaN   NaN    NaN  ...     NaN         NaN    NaN  299.950583\n",
              "2019-02-09   NaN  NaN   NaN    NaN  ...     NaN         NaN    NaN  301.244712\n",
              "2019-02-10   NaN  NaN   NaN    NaN  ...     NaN         NaN    NaN  300.520080\n",
              "2019-02-11   NaN  NaN   NaN    NaN  ...     NaN         NaN    NaN  302.039846\n",
              "2019-02-12   NaN  NaN   NaN    NaN  ...     NaN         NaN    NaN  295.351300\n",
              "2019-02-13   NaN  NaN   NaN    NaN  ...     NaN         NaN    NaN  292.594428\n",
              "2019-02-14   NaN  NaN   NaN    NaN  ...     NaN         NaN    NaN  297.632800\n",
              "2019-02-15   NaN  NaN   NaN    NaN  ...     NaN         NaN    NaN  297.439591\n",
              "2019-02-16   NaN  NaN   NaN    NaN  ...     NaN         NaN    NaN  315.463803\n",
              "2019-02-17   NaN  NaN   NaN    NaN  ...     NaN         NaN    NaN  322.347548\n",
              "2019-02-18   NaN  NaN   NaN    NaN  ...     NaN         NaN    NaN  321.001718\n",
              "2019-02-19   NaN  NaN   NaN    NaN  ...     NaN         NaN    NaN  302.699872\n",
              "2019-02-20   NaN  NaN   NaN    NaN  ...     NaN         NaN    NaN  295.756756\n",
              "2019-02-21   NaN  NaN   NaN    NaN  ...     NaN         NaN    NaN  282.604752\n",
              "\n",
              "[20 rows x 9 columns]"
            ]
          },
          "metadata": {
            "tags": []
          },
          "execution_count": 39
        }
      ]
    },
    {
      "cell_type": "code",
      "metadata": {
        "id": "XmHNg115JqUU",
        "colab_type": "code",
        "colab": {
          "base_uri": "https://localhost:8080/",
          "height": 235
        },
        "outputId": "bb3500f1-0bf0-4c5e-fda6-452d9f93a67c"
      },
      "source": [
        "df.head()"
      ],
      "execution_count": 40,
      "outputs": [
        {
          "output_type": "execute_result",
          "data": {
            "text/html": [
              "<div>\n",
              "<style scoped>\n",
              "    .dataframe tbody tr th:only-of-type {\n",
              "        vertical-align: middle;\n",
              "    }\n",
              "\n",
              "    .dataframe tbody tr th {\n",
              "        vertical-align: top;\n",
              "    }\n",
              "\n",
              "    .dataframe thead th {\n",
              "        text-align: right;\n",
              "    }\n",
              "</style>\n",
              "<table border=\"1\" class=\"dataframe\">\n",
              "  <thead>\n",
              "    <tr style=\"text-align: right;\">\n",
              "      <th></th>\n",
              "      <th>High</th>\n",
              "      <th>Low</th>\n",
              "      <th>Open</th>\n",
              "      <th>Close</th>\n",
              "      <th>Volume</th>\n",
              "      <th>HL_PCT</th>\n",
              "      <th>PCT_change</th>\n",
              "      <th>label</th>\n",
              "      <th>Forecast</th>\n",
              "    </tr>\n",
              "    <tr>\n",
              "      <th>Date</th>\n",
              "      <th></th>\n",
              "      <th></th>\n",
              "      <th></th>\n",
              "      <th></th>\n",
              "      <th></th>\n",
              "      <th></th>\n",
              "      <th></th>\n",
              "      <th></th>\n",
              "      <th></th>\n",
              "    </tr>\n",
              "  </thead>\n",
              "  <tbody>\n",
              "    <tr>\n",
              "      <th>2010-06-29</th>\n",
              "      <td>25.00</td>\n",
              "      <td>17.540001</td>\n",
              "      <td>19.000000</td>\n",
              "      <td>23.889999</td>\n",
              "      <td>18766300.0</td>\n",
              "      <td>31.226452</td>\n",
              "      <td>25.736839</td>\n",
              "      <td>17.900000</td>\n",
              "      <td>NaN</td>\n",
              "    </tr>\n",
              "    <tr>\n",
              "      <th>2010-06-30</th>\n",
              "      <td>30.42</td>\n",
              "      <td>23.299999</td>\n",
              "      <td>25.790001</td>\n",
              "      <td>23.830000</td>\n",
              "      <td>17187100.0</td>\n",
              "      <td>29.878308</td>\n",
              "      <td>-7.599848</td>\n",
              "      <td>17.600000</td>\n",
              "      <td>NaN</td>\n",
              "    </tr>\n",
              "    <tr>\n",
              "      <th>2010-07-01</th>\n",
              "      <td>25.92</td>\n",
              "      <td>20.270000</td>\n",
              "      <td>25.000000</td>\n",
              "      <td>21.959999</td>\n",
              "      <td>8218800.0</td>\n",
              "      <td>25.728597</td>\n",
              "      <td>-12.160004</td>\n",
              "      <td>18.320000</td>\n",
              "      <td>NaN</td>\n",
              "    </tr>\n",
              "    <tr>\n",
              "      <th>2010-07-02</th>\n",
              "      <td>23.10</td>\n",
              "      <td>18.709999</td>\n",
              "      <td>23.000000</td>\n",
              "      <td>19.200001</td>\n",
              "      <td>5139800.0</td>\n",
              "      <td>22.864589</td>\n",
              "      <td>-16.521736</td>\n",
              "      <td>18.780001</td>\n",
              "      <td>NaN</td>\n",
              "    </tr>\n",
              "    <tr>\n",
              "      <th>2010-07-06</th>\n",
              "      <td>20.00</td>\n",
              "      <td>15.830000</td>\n",
              "      <td>20.000000</td>\n",
              "      <td>16.110001</td>\n",
              "      <td>6866900.0</td>\n",
              "      <td>25.884543</td>\n",
              "      <td>-19.449997</td>\n",
              "      <td>19.150000</td>\n",
              "      <td>NaN</td>\n",
              "    </tr>\n",
              "  </tbody>\n",
              "</table>\n",
              "</div>"
            ],
            "text/plain": [
              "             High        Low       Open  ...  PCT_change      label  Forecast\n",
              "Date                                     ...                                 \n",
              "2010-06-29  25.00  17.540001  19.000000  ...   25.736839  17.900000       NaN\n",
              "2010-06-30  30.42  23.299999  25.790001  ...   -7.599848  17.600000       NaN\n",
              "2010-07-01  25.92  20.270000  25.000000  ...  -12.160004  18.320000       NaN\n",
              "2010-07-02  23.10  18.709999  23.000000  ...  -16.521736  18.780001       NaN\n",
              "2010-07-06  20.00  15.830000  20.000000  ...  -19.449997  19.150000       NaN\n",
              "\n",
              "[5 rows x 9 columns]"
            ]
          },
          "metadata": {
            "tags": []
          },
          "execution_count": 40
        }
      ]
    },
    {
      "cell_type": "code",
      "metadata": {
        "id": "TtY6mh49JqO1",
        "colab_type": "code",
        "colab": {
          "base_uri": "https://localhost:8080/",
          "height": 276
        },
        "outputId": "d2783fd6-8cd0-444f-89c8-3b8df5a02d9d"
      },
      "source": [
        "import matplotlib.pyplot as plt\n",
        "from matplotlib import style\n",
        "\n",
        "style.use('ggplot')\n",
        "\n",
        "df['Close'].plot()\n",
        "df['Forecast'].plot()\n",
        "plt.legend(loc=4)\n",
        "plt.xlabel('Date')\n",
        "plt.ylabel('Price')\n",
        "plt.show()"
      ],
      "execution_count": 41,
      "outputs": [
        {
          "output_type": "display_data",
          "data": {
            "image/png": "[encoded data removed]",
            "text/plain": [
              "<Figure size 432x288 with 1 Axes>"
            ]
          },
          "metadata": {
            "tags": []
          }
        }
      ]
    }
  ]
}